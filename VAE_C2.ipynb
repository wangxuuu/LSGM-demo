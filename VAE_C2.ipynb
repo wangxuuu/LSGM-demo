{
 "cells": [
  {
   "cell_type": "code",
   "execution_count": 43,
   "metadata": {},
   "outputs": [],
   "source": [
    "import os\n",
    "import numpy as np\n",
    "import torch\n",
    "import torch.nn as nn\n",
    "import torch.nn.functional as F\n",
    "import torchvision\n",
    "from utils import *\n",
    "import matplotlib.pyplot as plt\n",
    "import matplotlib.animation as animation\n",
    "from scipy.ndimage.interpolation import rotate\n",
    "\n",
    "from IPython.display import HTML\n",
    "from IPython.display import clear_output"
   ]
  },
  {
   "cell_type": "code",
   "execution_count": 44,
   "metadata": {},
   "outputs": [],
   "source": [
    "# initialize random seed\n",
    "SEED = 0\n",
    "torch.manual_seed(SEED)\n",
    "torch.cuda.manual_seed(SEED)\n",
    "np.random.seed(SEED)\n",
    "\n",
    "cuda = True if torch.cuda.is_available() else False\n",
    "FloatTensor = torch.cuda.FloatTensor if cuda else torch.FloatTensor\n",
    "torch.set_default_tensor_type(FloatTensor)\n",
    "device = torch.device('cuda' if torch.cuda.is_available() else 'cpu')"
   ]
  },
  {
   "cell_type": "code",
   "execution_count": 46,
   "metadata": {},
   "outputs": [],
   "source": [
    "total_iteration = 1000\n",
    "dist1 = (3, 1) # mean : (3, 3), std : 1\n",
    "dist2 = (-3, 1) # mean : (-3, -3), std : 1\n",
    "probability = 0.2\n",
    "batch_size = 1000\n",
    "dataloader = torch.utils.data.DataLoader(Cluster2DataSet(dist1, dist2, probability=probability, total_len=batch_size * total_iteration), batch_size = batch_size, drop_last = True)\n",
    "dataiterator = iter(dataloader)"
   ]
  },
  {
   "cell_type": "markdown",
   "metadata": {},
   "source": [
    "## Real Samples"
   ]
  },
  {
   "cell_type": "code",
   "execution_count": 47,
   "metadata": {},
   "outputs": [
    {
     "data": {
      "image/png": "[encoded data removed]",
      "text/plain": [
       "<Figure size 504x504 with 1 Axes>"
      ]
     },
     "metadata": {
      "needs_background": "light"
     },
     "output_type": "display_data"
    }
   ],
   "source": [
    "scatter(next(iter(dataloader)), True)"
   ]
  },
  {
   "cell_type": "code",
   "execution_count": 48,
   "metadata": {},
   "outputs": [],
   "source": [
    "scatter_range = [-10, 10]\n",
    "total_iteration = 2000\n",
    "current_iteration = 0\n",
    "display_iteration = 200\n",
    "sampling_number = 1000\n",
    "only_final = True"
   ]
  },
  {
   "cell_type": "code",
   "execution_count": 49,
   "metadata": {},
   "outputs": [],
   "source": [
    "learning_rate = 5e-3\n",
    "z_dim = 2\n",
    "sample_dir = './results/clusters2'\n",
    "lamd = 5000\n",
    "\n",
    "if not os.path.exists(sample_dir):\n",
    "    os.makedirs(sample_dir)"
   ]
  },
  {
   "cell_type": "markdown",
   "metadata": {},
   "source": [
    "## Traning VAE"
   ]
  },
  {
   "cell_type": "code",
   "execution_count": 50,
   "metadata": {},
   "outputs": [
    {
     "name": "stdout",
     "output_type": "stream",
     "text": [
      "Iteration[100/2000], Reconst Loss: 0.1986, KL Div: 2888.9895\n",
      "Iteration[200/2000], Reconst Loss: 0.1939, KL Div: 2709.8232\n",
      "Iteration[300/2000], Reconst Loss: 0.2031, KL Div: 2537.4663\n",
      "Iteration[400/2000], Reconst Loss: 0.2217, KL Div: 2424.3564\n",
      "Iteration[500/2000], Reconst Loss: 0.1954, KL Div: 2488.3901\n",
      "Iteration[600/2000], Reconst Loss: 0.2155, KL Div: 2400.6616\n",
      "Iteration[700/2000], Reconst Loss: 0.2108, KL Div: 2344.3821\n",
      "Iteration[800/2000], Reconst Loss: 0.2224, KL Div: 2351.2549\n",
      "Iteration[900/2000], Reconst Loss: 0.2178, KL Div: 2453.8738\n",
      "Iteration[1000/2000], Reconst Loss: 0.1947, KL Div: 2423.0627\n",
      "Iteration[1100/2000], Reconst Loss: 0.2472, KL Div: 2263.5881\n",
      "Iteration[1200/2000], Reconst Loss: 0.1830, KL Div: 2405.5337\n",
      "Iteration[1300/2000], Reconst Loss: 0.1918, KL Div: 2401.9858\n",
      "Iteration[1400/2000], Reconst Loss: 0.2054, KL Div: 2370.7407\n",
      "Iteration[1500/2000], Reconst Loss: 0.2125, KL Div: 2321.2864\n",
      "Iteration[1600/2000], Reconst Loss: 0.2159, KL Div: 2332.3181\n",
      "Iteration[1700/2000], Reconst Loss: 0.1916, KL Div: 2336.9070\n",
      "Iteration[1800/2000], Reconst Loss: 0.2130, KL Div: 2249.5605\n",
      "Iteration[1900/2000], Reconst Loss: 0.1794, KL Div: 2439.5107\n",
      "Iteration[2000/2000], Reconst Loss: 0.2119, KL Div: 2211.6196\n"
     ]
    }
   ],
   "source": [
    "model = VAE(input_size=2, h_dim=256, z_dim=2).to(device)\n",
    "optimizer = torch.optim.Adam(model.parameters(), lr=learning_rate)\n",
    "torch.multiprocessing.set_start_method('spawn', force=True)\n",
    "# Start training\n",
    "for i in range(total_iteration):\n",
    "    try:\n",
    "        data = dataiterator.next()\n",
    "    except:\n",
    "        dataiterator = iter(dataloader)\n",
    "        data = dataiterator.next()\n",
    "    data = data.to(device = device)\n",
    "\n",
    "    x_reconst, mu, log_var = model(data)\n",
    "\n",
    "    # Compute reconstruction loss and kl divergence\n",
    "    # For KL divergence, see Appendix B in VAE paper or http://yunjey47.tistory.com/43\n",
    "    # reconst_loss = F.binary_cross_entropy(x_reconst, x, size_average=False)\n",
    "    reconst_loss = F.mse_loss(x_reconst, data)\n",
    "    kl_div = - 0.5 * torch.sum(1 + log_var - mu.pow(2) - log_var.exp())\n",
    "\n",
    "    # Backprop and optimize\n",
    "    loss = lamd*reconst_loss + kl_div\n",
    "    optimizer.zero_grad()\n",
    "    loss.backward()\n",
    "    optimizer.step()\n",
    "\n",
    "    if (i+1) % 100 == 0:\n",
    "        print(\"Iteration[{}/{}], Reconst Loss: {:.4f}, KL Div: {:.4f}\"\n",
    "                .format(i+1, total_iteration, reconst_loss.item(), kl_div.item()))\n",
    "\n",
    "        with torch.no_grad():\n",
    "            # Save the sampled images\n",
    "            z = torch.randn(batch_size, z_dim).to(device)\n",
    "            out = model.decode(z)\n",
    "            scatter(out, only_final, scatter_range = scatter_range)\n",
    "            plt.savefig(os.path.join(sample_dir, 'sampled-{}.png'.format(i+1)))\n",
    "            # Save the reconstructed images\n",
    "            out, _, _ = model(data)\n",
    "            scatter(out, only_final, scatter_range = scatter_range)\n",
    "            plt.savefig(os.path.join(sample_dir, 'reconst-{}.png'.format(i+1)))\n",
    "            plt.close('all')"
   ]
  },
  {
   "cell_type": "code",
   "execution_count": null,
   "metadata": {},
   "outputs": [],
   "source": []
  }
 ],
 "metadata": {
  "kernelspec": {
   "display_name": "Python 3.7.7 ('torch')",
   "language": "python",
   "name": "python3"
  },
  "language_info": {
   "codemirror_mode": {
    "name": "ipython",
    "version": 3
   },
   "file_extension": ".py",
   "mimetype": "text/x-python",
   "name": "python",
   "nbconvert_exporter": "python",
   "pygments_lexer": "ipython3",
   "version": "3.7.7"
  },
  "orig_nbformat": 4,
  "vscode": {
   "interpreter": {
    "hash": "52b3e5fe9304ee37ed6fc02b58fb2a8a470f895336a7b69fe331a7c2f400c80f"
   }
  }
 },
 "nbformat": 4,
 "nbformat_minor": 2
}
